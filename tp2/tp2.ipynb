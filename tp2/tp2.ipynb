{
 "cells": [
  {
   "cell_type": "code",
   "execution_count": 1,
   "id": "0d0e8679",
   "metadata": {},
   "outputs": [
    {
     "data": {
      "text/plain": [
       "2"
      ]
     },
     "execution_count": 1,
     "metadata": {},
     "output_type": "execute_result"
    }
   ],
   "source": [
    "1+1\n"
   ]
  },
  {
   "cell_type": "code",
   "execution_count": 2,
   "id": "6b7bcee7",
   "metadata": {},
   "outputs": [
    {
     "name": "stdout",
     "output_type": "stream",
     "text": [
      "Collecting seabornNote: you may need to restart the kernel to use updated packages.\n"
     ]
    },
    {
     "name": "stderr",
     "output_type": "stream",
     "text": [
      "WARNING: You are using pip version 21.2.4; however, version 22.0.4 is available.\n",
      "You should consider upgrading via the 'C:\\Users\\User\\my_env2\\Scripts\\python.exe -m pip install --upgrade pip' command.\n"
     ]
    },
    {
     "name": "stdout",
     "output_type": "stream",
     "text": [
      "\n",
      "  Using cached seaborn-0.11.2-py3-none-any.whl (292 kB)\n",
      "Collecting pandas\n",
      "  Using cached pandas-1.4.1-cp310-cp310-win_amd64.whl (10.6 MB)\n",
      "Collecting numpy>=1.15\n",
      "  Using cached numpy-1.22.3-cp310-cp310-win_amd64.whl (14.7 MB)\n",
      "Collecting scipy>=1.0\n",
      "  Using cached scipy-1.8.0-cp310-cp310-win_amd64.whl (37.0 MB)\n",
      "Collecting matplotlib>=2.2\n",
      "  Using cached matplotlib-3.5.1-cp310-cp310-win_amd64.whl (7.2 MB)\n",
      "Requirement already satisfied: python-dateutil>=2.8.1 in c:\\users\\user\\my_env2\\lib\\site-packages (from pandas) (2.8.2)\n",
      "Requirement already satisfied: pytz>=2020.1 in c:\\users\\user\\my_env2\\lib\\site-packages (from pandas) (2021.3)\n",
      "Requirement already satisfied: pyparsing>=2.2.1 in c:\\users\\user\\my_env2\\lib\\site-packages (from matplotlib>=2.2->seaborn) (3.0.7)\n",
      "Collecting cycler>=0.10\n",
      "  Using cached cycler-0.11.0-py3-none-any.whl (6.4 kB)\n",
      "Requirement already satisfied: packaging>=20.0 in c:\\users\\user\\my_env2\\lib\\site-packages (from matplotlib>=2.2->seaborn) (21.3)\n",
      "Collecting fonttools>=4.22.0\n",
      "  Using cached fonttools-4.30.0-py3-none-any.whl (898 kB)\n",
      "Collecting pillow>=6.2.0\n",
      "  Using cached Pillow-9.0.1-cp310-cp310-win_amd64.whl (3.2 MB)\n",
      "Collecting kiwisolver>=1.0.1\n",
      "  Using cached kiwisolver-1.4.0-cp310-cp310-win_amd64.whl (51 kB)\n",
      "Requirement already satisfied: six>=1.5 in c:\\users\\user\\my_env2\\lib\\site-packages (from python-dateutil>=2.8.1->pandas) (1.16.0)\n",
      "Installing collected packages: pillow, numpy, kiwisolver, fonttools, cycler, scipy, pandas, matplotlib, seaborn\n",
      "Successfully installed cycler-0.11.0 fonttools-4.30.0 kiwisolver-1.4.0 matplotlib-3.5.1 numpy-1.22.3 pandas-1.4.1 pillow-9.0.1 scipy-1.8.0 seaborn-0.11.2\n"
     ]
    }
   ],
   "source": [
    "%pip install seaborn pandas"
   ]
  },
  {
   "cell_type": "code",
   "execution_count": null,
   "id": "86e83f90",
   "metadata": {},
   "outputs": [],
   "source": []
  }
 ],
 "metadata": {
  "kernelspec": {
   "display_name": "Python 3 (ipykernel)",
   "language": "python",
   "name": "python3"
  },
  "language_info": {
   "codemirror_mode": {
    "name": "ipython",
    "version": 3
   },
   "file_extension": ".py",
   "mimetype": "text/x-python",
   "name": "python",
   "nbconvert_exporter": "python",
   "pygments_lexer": "ipython3",
   "version": "3.10.2"
  }
 },
 "nbformat": 4,
 "nbformat_minor": 5
}
